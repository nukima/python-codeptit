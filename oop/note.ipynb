{
 "cells": [
  {
   "cell_type": "code",
   "execution_count": 12,
   "metadata": {},
   "outputs": [],
   "source": [
    "import re\n",
    "from random import  randint\n",
    "\n",
    "tu_dien_ma_tinh = {\"Hà Nội\": '001', \"Hà Giang\": '002', 'Cao Bằng':'004', 'Tuyên Quang':'008', 'Lào Cai':'010', 'Điện Biên':'011', 'Lai Châu':'012', 'Sơn La':'014', 'Yên Bái':'015', 'Thanh Hóa':'038'}\n",
    "\n",
    "def no_accent_vietnamese(s):\n",
    "    s = re.sub('[áàảãạăắằẳẵặâấầẩẫậ]', 'a', s)\n",
    "    s = re.sub('[ÁÀẢÃẠĂẮẰẲẴẶÂẤẦẨẪẬ]', 'A', s)\n",
    "    s = re.sub('[éèẻẽẹêếềểễệ]', 'e', s)\n",
    "    s = re.sub('[ÉÈẺẼẸÊẾỀỂỄỆ]', 'E', s)\n",
    "    s = re.sub('[óòỏõọôốồổỗộơớờởỡợ]', 'o', s)\n",
    "    s = re.sub('[ÓÒỎÕỌÔỐỒỔỖỘƠỚỜỞỠỢ]', 'O', s)\n",
    "    s = re.sub('[íìỉĩị]', 'i', s)\n",
    "    s = re.sub('[ÍÌỈĨỊ]', 'I', s)\n",
    "    s = re.sub('[úùủũụưứừửữự]', 'u', s)\n",
    "    s = re.sub('[ÚÙỦŨỤƯỨỪỬỮỰ]', 'U', s)\n",
    "    s = re.sub('[ýỳỷỹỵ]', 'y', s)\n",
    "    s = re.sub('[ÝỲỶỸỴ]', 'Y', s)\n",
    "    s = re.sub('đ', 'd', s)\n",
    "    s = re.sub('Đ', 'D', s)\n",
    "    return s\n",
    "\n",
    "def tinh_tuoi(nam_sinh):\n",
    "    return 2021 - nam_sinh\n",
    "\n",
    "def sinh_ma_tinh(ten_tinh, tu_dien_ma_tinh):\n",
    "    return tu_dien_ma_tinh.get(ten_tinh, \"Không có trong từ điển\")\n",
    "\n",
    "def sinh_ma_gioi_tinh(nam_sinh, gioi_tinh):\n",
    "    gioi_tinh = gioi_tinh.lower()\n",
    "    if nam_sinh in range(1900, 2000):\n",
    "        return '0' if gioi_tinh == 'nam' else '1'\n",
    "    if nam_sinh in range(2000, 2100):\n",
    "        return '2' if gioi_tinh == 'nam' else '3'\n",
    "    if nam_sinh in range(2100, 2200):\n",
    "        return '4' if gioi_tinh == 'nam' else '5'\n",
    "    if nam_sinh in range(2200, 2300):\n",
    "        return '6' if gioi_tinh == 'nam' else '7'\n",
    "    if nam_sinh in range(2300, 2400):\n",
    "        return '8' if gioi_tinh == 'nam' else '9'  \n",
    "\n",
    "def sinh_email(ho_ten):\n",
    "    ho_ten = no_accent_vietnamese(ho_ten)\n",
    "    words = ho_ten.lower().split()\n",
    "    email = words[-1]\n",
    "    for word in words[:-1]:\n",
    "        email += word[0]\n",
    "    email += '@gmail.com'\n",
    "    return email\n",
    "\n",
    "class FullName:\n",
    "    def __init__(self, ten_day_du):\n",
    "        self.ten_day_du = ten_day_du\n",
    "\n",
    "class CongDan:\n",
    "    def __init__(self, ho_ten, nam_sinh, gioi_tinh, que_quan):\n",
    "        self.ho_ten = ho_ten\n",
    "        self.nam_sinh = nam_sinh\n",
    "        self.gioi_tinh = gioi_tinh\n",
    "        self.que_quan = que_quan\n",
    "        self.email = sinh_email(ho_ten.ten_day_du)\n",
    "\n",
    "def sinh_cccd(CongDan):\n",
    "    result = sinh_ma_tinh(CongDan.que_quan, tu_dien_ma_tinh)\n",
    "    result += sinh_ma_gioi_tinh(CongDan.nam_sinh, CongDan.gioi_tinh)\n",
    "    result += str(CongDan.nam_sinh)[-2] + str(CongDan.nam_sinh)[-1]\n",
    "    result += '{:06d}'.format(randint(0,1000000))\n",
    "\n",
    "    return result\n",
    " \n"
   ]
  },
  {
   "cell_type": "code",
   "execution_count": 11,
   "metadata": {},
   "outputs": [
    {
     "name": "stdout",
     "output_type": "stream",
     "text": [
      "False\n"
     ]
    }
   ],
   "source": [
    "flag = False\n",
    "print(flag)"
   ]
  },
  {
   "cell_type": "code",
   "execution_count": 35,
   "metadata": {},
   "outputs": [
    {
     "name": "stdout",
     "output_type": "stream",
     "text": [
      "[1, 2, 2, 3, 3]\n",
      "2\n"
     ]
    }
   ],
   "source": [
    "nums = [1,2,3,2,3]\n",
    "nums.sort()\n",
    "result, count = 0, 1\n",
    "prev = nums[0]\n",
    "for num in nums[1:]:\n",
    "    if num == prev:\n",
    "        count += 1\n",
    "        prev = num\n",
    "    else:\n",
    "        result += (count * (count - 1)) / 2\n",
    "        count = 1\n",
    "        prev = num\n",
    "\n",
    "result += (count * (count - 1)) / 2\n",
    "\n",
    "print(int(result))"
   ]
  },
  {
   "cell_type": "code",
   "execution_count": 43,
   "metadata": {},
   "outputs": [
    {
     "name": "stdout",
     "output_type": "stream",
     "text": [
      "* . . * . . *\n",
      ". * . * . * .\n",
      ". . * * * . .\n",
      "* * * * * * *\n",
      ". . * * * . .\n",
      ". * . * . * .\n",
      "* . . * . . *\n"
     ]
    }
   ],
   "source": [
    "n = 7\n",
    "k = n // 2\n",
    "a = [['.'] * n for i in range(n)]\n",
    "for i in range(n):\n",
    "    a[k][i] = '*'\n",
    "    a[i][k] = '*'\n",
    "    a[i][i] = '*'\n",
    "    a[n-i-1][i] = '*'\n",
    "for row in a:\n",
    "    print(' '.join(row))"
   ]
  },
  {
   "cell_type": "code",
   "execution_count": 52,
   "metadata": {},
   "outputs": [
    {
     "data": {
      "text/plain": [
       "[1, 3, 4, 5]"
      ]
     },
     "execution_count": 52,
     "metadata": {},
     "output_type": "execute_result"
    }
   ],
   "source": [
    "s1 = set(('1', '3', '5' , '4'))\n",
    "s1 = list([int(num) for num in s1])\n",
    "s1.sort()\n",
    "s1\n"
   ]
  },
  {
   "cell_type": "code",
   "execution_count": null,
   "metadata": {},
   "outputs": [],
   "source": [
    "tudien = {}\n",
    "for i in range(3):\n",
    "    txt = input()\n",
    "    txt = [i.strip() for i in txt.split('-')]\n",
    "    words = [i.strip() for i in txt[1].split(',')] #['malum', 'pomum', 'popula']\n",
    "    for word in words:\n",
    "        if word in tudien:\n",
    "            tudien[word].append(txt[0])\n",
    "        else:\n",
    "            tudien[word] = [txt[0]]\n",
    "\n",
    "# tudien[word] = []\n",
    "tudien\n"
   ]
  },
  {
   "cell_type": "code",
   "execution_count": 8,
   "metadata": {},
   "outputs": [
    {
     "data": {
      "text/plain": [
       "4"
      ]
     },
     "execution_count": 8,
     "metadata": {},
     "output_type": "execute_result"
    }
   ],
   "source": [
    "int('100', 2)"
   ]
  }
 ],
 "metadata": {
  "interpreter": {
   "hash": "69d35d51742c8c24881876886638da079098f9847f2b2532bbba9b2158117698"
  },
  "kernelspec": {
   "display_name": "Python 3.9.8 64-bit (windows store)",
   "language": "python",
   "name": "python3"
  },
  "language_info": {
   "codemirror_mode": {
    "name": "ipython",
    "version": 3
   },
   "file_extension": ".py",
   "mimetype": "text/x-python",
   "name": "python",
   "nbconvert_exporter": "python",
   "pygments_lexer": "ipython3",
   "version": "3.10.1"
  },
  "orig_nbformat": 4
 },
 "nbformat": 4,
 "nbformat_minor": 2
}
